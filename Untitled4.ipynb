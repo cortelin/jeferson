{
  "nbformat": 4,
  "nbformat_minor": 0,
  "metadata": {
    "colab": {
      "provenance": [],
      "authorship_tag": "ABX9TyMZNyxHYXvsF+kexDkLiFC8",
      "include_colab_link": true
    },
    "kernelspec": {
      "name": "python3",
      "display_name": "Python 3"
    },
    "language_info": {
      "name": "python"
    }
  },
  "cells": [
    {
      "cell_type": "markdown",
      "metadata": {
        "id": "view-in-github",
        "colab_type": "text"
      },
      "source": [
        "<a href=\"https://colab.research.google.com/github/cortelin/jeferson/blob/main/Untitled4.ipynb\" target=\"_parent\"><img src=\"https://colab.research.google.com/assets/colab-badge.svg\" alt=\"Open In Colab\"/></a>"
      ]
    },
    {
      "cell_type": "code",
      "execution_count": 1,
      "metadata": {
        "colab": {
          "base_uri": "https://localhost:8080/"
        },
        "id": "RvzHJNWf6_z_",
        "outputId": "a0471df0-6798-423b-a83a-47d6ad8fe2cc"
      },
      "outputs": [
        {
          "output_type": "stream",
          "name": "stdout",
          "text": [
            "('morango', 'abacaxi', 'kiwi')\n",
            "('abacate', 'banana', 'melão')\n",
            "('morango', 'abacaxi', 'kiwi', 'abacate', 'banana', 'melão')\n"
          ]
        }
      ],
      "source": [
        "minha_tupla = (\"morango\",\"abacaxi\",\"kiwi\")\n",
        "print(minha_tupla)\n",
        "\n",
        "nova_tupla = (\"abacate\",\"banana\",\"melão\")\n",
        "\n",
        "print(nova_tupla)\n",
        "\n",
        "tupla_unida = minha_tupla + nova_tupla\n",
        "print(tupla_unida)\n"
      ]
    },
    {
      "cell_type": "code",
      "source": [
        "nome = input (\"digite a lista que precisa: \")\n",
        "\n",
        "minha_list = (\"leite\",\"açucar\",\"café\",\"frango\",\"detergente\")\n",
        "\n",
        "print(minha_list)\n",
        "\n",
        "nova_list = (\"tempero\",\"salada\",\"pão\")\n",
        "\n",
        "list_unida = minha_list + nova_list\n",
        "\n",
        "print(list_unida)"
      ],
      "metadata": {
        "colab": {
          "base_uri": "https://localhost:8080/"
        },
        "id": "PHPOTX2L7ees",
        "outputId": "4a09ff3b-6dcc-488e-9e9d-3fc5f53988e2"
      },
      "execution_count": 7,
      "outputs": [
        {
          "output_type": "stream",
          "name": "stdout",
          "text": [
            "digite a lista que precisa: mercado\n",
            "('leite', 'açucar', 'café', 'frango', 'detergente')\n",
            "('leite', 'açucar', 'café', 'frango', 'detergente', 'tempero', 'salada', 'pão')\n"
          ]
        }
      ]
    },
    {
      "cell_type": "code",
      "source": [
        "minha_lista = [\"leite\",\"açucar\",\"café\",\"frango\",\"detergente\"]\n",
        "\n",
        "print(\"Lista inicial\", minha_lista)\n",
        "\n",
        "while True:\n",
        "  novo_item = input (\"Digite um item para adicionar (ou 'sair' para parar):  \")\n",
        "\n",
        "  if novo_item.strip().lower () == \"sair\":\n",
        "    break\n",
        "  minha_lista.append(novo_item)\n",
        "\n",
        "  print(\"Lista atualizada\", minha_lista)\n",
        "\n",
        "  print(\"Lista final\", minha_lista)\n"
      ],
      "metadata": {
        "colab": {
          "base_uri": "https://localhost:8080/"
        },
        "id": "8YZOdNXF-i1o",
        "outputId": "c2a5d880-5661-4dd4-be82-24f2ac314d1c"
      },
      "execution_count": 85,
      "outputs": [
        {
          "name": "stdout",
          "output_type": "stream",
          "text": [
            "Lista inicial ['leite', 'açucar', 'café', 'frango', 'detergente']\n",
            "Digite um item para adicionar (ou 'sair' para parar):  ovo\n",
            "Lista atualizada ['leite', 'açucar', 'café', 'frango', 'detergente', 'ovo']\n",
            "Lista final ['leite', 'açucar', 'café', 'frango', 'detergente', 'ovo']\n",
            "Digite um item para adicionar (ou 'sair' para parar):  feijão\n",
            "Lista atualizada ['leite', 'açucar', 'café', 'frango', 'detergente', 'ovo', 'feijão']\n",
            "Lista final ['leite', 'açucar', 'café', 'frango', 'detergente', 'ovo', 'feijão']\n",
            "Digite um item para adicionar (ou 'sair' para parar):  arroz\n",
            "Lista atualizada ['leite', 'açucar', 'café', 'frango', 'detergente', 'ovo', 'feijão', 'arroz']\n",
            "Lista final ['leite', 'açucar', 'café', 'frango', 'detergente', 'ovo', 'feijão', 'arroz']\n",
            "Digite um item para adicionar (ou 'sair' para parar):  sair\n"
          ]
        }
      ]
    }
  ]
}